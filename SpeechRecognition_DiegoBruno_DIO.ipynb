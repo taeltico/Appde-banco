{
  "nbformat": 4,
  "nbformat_minor": 0,
  "metadata": {
    "colab": {
      "provenance": [],
      "include_colab_link": true
    },
    "kernelspec": {
      "name": "python3",
      "display_name": "Python 3"
    },
    "language_info": {
      "name": "python"
    }
  },
  "cells": [
    {
      "cell_type": "markdown",
      "metadata": {
        "id": "view-in-github",
        "colab_type": "text"
      },
      "source": [
        "<a href=\"https://colab.research.google.com/github/taeltico/Appde-banco/blob/main/SpeechRecognition_DiegoBruno_DIO.ipynb\" target=\"_parent\"><img src=\"https://colab.research.google.com/assets/colab-badge.svg\" alt=\"Open In Colab\"/></a>"
      ]
    },
    {
      "cell_type": "code",
      "execution_count": null,
      "metadata": {
        "id": "GgkfZu7ZPC7Y"
      },
      "outputs": [],
      "source": [
        "!pip install gTTS\n"
      ]
    },
    {
      "cell_type": "code",
      "source": [
        "from gtts import gTTS\n",
        "\n",
        "text_to_say = \"Nice to meet you, Diego.\"\n",
        "\n",
        "language = \"en\"\n",
        "\n",
        "gtts_object = gTTS(text = text_to_say, \n",
        "                  lang = language,\n",
        "                  slow = False)\n",
        "\n",
        "gtts_object.save(\"/content/gtts.wav\")"
      ],
      "metadata": {
        "id": "docm0hRXPOzX"
      },
      "execution_count": null,
      "outputs": []
    },
    {
      "cell_type": "code",
      "source": [
        "from IPython.display import Audio\n",
        "\n",
        "Audio(\"/content/gtts.wav\")"
      ],
      "metadata": {
        "id": "iev8RM_XL9r_"
      },
      "execution_count": null,
      "outputs": []
    },
    {
      "cell_type": "code",
      "source": [
        "french_text = \"Bonjour. Je m'appelle Alexandra. Je suis programmeuse.\"\n",
        "\n",
        "french_language = \"fr\"\n",
        "\n",
        "french_gtts_object = gTTS(text = french_text,\n",
        "                          lang = french_language,\n",
        "                          slow = True)\n",
        "\n",
        "french_gtts_object.save(\"/content/french.wav\")\n",
        "\n",
        "Audio(\"/content/french.wav\")"
      ],
      "metadata": {
        "id": "nVjGUwgtMDSn"
      },
      "execution_count": null,
      "outputs": []
    }
  ]
}